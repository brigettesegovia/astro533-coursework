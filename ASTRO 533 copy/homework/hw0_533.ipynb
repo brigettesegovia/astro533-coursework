{
 "cells": [
  {
   "cell_type": "code",
   "execution_count": 35,
   "id": "a3be5dac-e024-4320-8796-6276844b00c6",
   "metadata": {},
   "outputs": [],
   "source": [
    "import numpy as np"
   ]
  },
  {
   "cell_type": "code",
   "execution_count": 37,
   "id": "1b70b50d-7d2b-42c9-9373-b0f553694fbc",
   "metadata": {},
   "outputs": [],
   "source": [
    "total_molecular_mass = 1.5*(10**9)*1.989e30#This is in units of kg\n",
    "molecular_cloud_radius_cm = 15 * 3.086e18 #15pc but this is in cm\n",
    "proton_mass = 1.67262192 * 10**(-27) #mass of proton in kg\n",
    "nH2_density = 300 #cm^-3\n",
    "molecular_mass = proton_mass * 2\n",
    "density_nH2_molecule = nH2_density * molecular_mass\n",
    "\n",
    "\n",
    "volume_of_sing_molecular_cloud = (4/3) * np.pi * (molecular_cloud_radius_cm**3)\n",
    "mass_one_cloud = density_nH2_molecule * volume_of_sing_molecular_cloud\n",
    "\n",
    "total_clouds = total_molecular_mass/mass_one_cloud\n"
   ]
  },
  {
   "cell_type": "code",
   "execution_count": 39,
   "id": "5115b7f9-361d-4438-a03c-67510b7100bf",
   "metadata": {},
   "outputs": [
    {
     "name": "stdout",
     "output_type": "stream",
     "text": [
      "Mass of one cloud is: 4.169646007497204e+35\n",
      "There are a total of 7155.283673087686 clouds in the MW.\n"
     ]
    }
   ],
   "source": [
    "print('Mass of one cloud is: '+ str(mass_one_cloud))\n",
    "print('There are a total of ' + str(total_clouds) +' clouds in the MW.')"
   ]
  },
  {
   "cell_type": "code",
   "execution_count": null,
   "id": "2f7c511b-64dc-4b16-a462-ec26aa68634e",
   "metadata": {},
   "outputs": [],
   "source": []
  }
 ],
 "metadata": {
  "kernelspec": {
   "display_name": "Python 3 (ipykernel)",
   "language": "python",
   "name": "python3"
  },
  "language_info": {
   "codemirror_mode": {
    "name": "ipython",
    "version": 3
   },
   "file_extension": ".py",
   "mimetype": "text/x-python",
   "name": "python",
   "nbconvert_exporter": "python",
   "pygments_lexer": "ipython3",
   "version": "3.12.4"
  }
 },
 "nbformat": 4,
 "nbformat_minor": 5
}
