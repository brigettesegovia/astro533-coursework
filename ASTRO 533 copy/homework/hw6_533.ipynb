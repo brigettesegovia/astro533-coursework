{
 "cells": [
  {
   "cell_type": "code",
   "execution_count": 1,
   "id": "f11b4c92-7c1a-4684-849c-1c05dada561e",
   "metadata": {},
   "outputs": [
    {
     "data": {
      "text/plain": [
       "\"'I used copilot to help me comment and structure my code.\""
      ]
     },
     "execution_count": 1,
     "metadata": {},
     "output_type": "execute_result"
    }
   ],
   "source": [
    "import numpy as np\n",
    "import scipy.integrate as integrate\n",
    "from scipy.integrate import quad\n",
    "import astropy.units as u\n",
    "import astropy.constants as const\n",
    "import matplotlib.pyplot as plt\n",
    "\n",
    "\n",
    "''''I used copilot to help me comment and structure my code.'''"
   ]
  },
  {
   "cell_type": "markdown",
   "id": "3ac3fb1d",
   "metadata": {},
   "source": [
    "a) Compute the relative number of photons that can ionize $H^0$ and $C^0$, Q($C^0$)/Q($H^0$), from this B0 star. Assume that the star's ionizing spectrum is a blackbody in the Wein tail. Further, assume that photons with hv > 13.6eV ionize only H and photons with 11.8 < hv < 13.6 ionize only C."
   ]
  },
  {
   "cell_type": "code",
   "execution_count": 2,
   "id": "b380a4d1",
   "metadata": {},
   "outputs": [],
   "source": [
    "# Constants\n",
    "h = const.h.value                                  # Planck's constant in J·s\n",
    "c = const.c.value                                  # Speed of light in m/s\n",
    "k_B = const.k_B.value                              # Boltzmann constant in J/K\n",
    "T_eff = 31500                                      # Effective temperature of the star in Kelvin\n",
    "n_c_n_H_ratio = 2 * 10**(-4)                       # Ratio of carbon to hydrogen atoms\n",
    "recomb_coeff_C = 4.66 * 10**(-13) * (u.cm**3/u.s)  # Recombination coefficient for carbon in cm^3/s\n",
    "\n",
    "# Energy bounds in eV (converted to Joules)\n",
    "E_H0 = 13.6 * u.eV.to('J')                  # Ionization energy of hydrogen in Joules\n",
    "E_C0_low = 11.18 * u.eV.to('J')              # Lower bound for carbon ionization in Joules\n",
    "E_C0_high = 13.6 * u.eV.to('J')             # Upper bound for carbon ionization in Joules\n",
    "\n",
    "# Convert energy to frequency (v = E/h)\n",
    "v_H0 = E_H0 / h             # Frequency corresponding to 13.6 eV\n",
    "v_C0_low = E_C0_low / h     # Frequency corresponding to 11.8 eV\n",
    "v_C0_high = E_C0_high / h   # Frequency corresponding to 13.6 eV\n"
   ]
  },
  {
   "cell_type": "code",
   "execution_count": 3,
   "id": "e5ff782a",
   "metadata": {},
   "outputs": [
    {
     "name": "stdout",
     "output_type": "stream",
     "text": [
      "Integral for hydrogen (Q_H0): 1.56e+27, Error estimate: 2.21e+18\n",
      "Integral for carbon (Q_C0): 1.23e+27, Error estimate: 1.36e+13\n"
     ]
    }
   ],
   "source": [
    "# Wein tail approximation for the blackbody spectrum (normalized version)\n",
    "def wein_tail(v, T):\n",
    "    \"\"\"Wein tail approximation for the blackbody spectrum.\"\"\"\n",
    "    return ( 2 * h * v**3 / c**2 ) * np.exp(-h * v / (k_B * T))\n",
    "\n",
    "# Photon flux, proportional to the number of photons at a given frequency\n",
    "def photon_flux(v, T):\n",
    "    \"\"\"Returns the photon flux (number of photons per unit frequency).\"\"\"\n",
    "    return wein_tail(v, T) / (h * v)\n",
    "\n",
    "# Set a reasonable upper limit for integration\n",
    "v_upper_limit = 100* v_H0  # Change this factor as needed\n",
    "\n",
    "# Integrating for hydrogen (hv > 13.6 eV) with an upper limit\n",
    "Q_H0, error_H0 = integrate.quad(photon_flux, v_H0, v_upper_limit, args=(T_eff,))\n",
    "print(f'Integral for hydrogen (Q_H0): {Q_H0:.2e}, Error estimate: {error_H0:.2e}')\n",
    "\n",
    "# Integrating for carbon (11.8 < hv < 13.6 eV)\n",
    "Q_C0, error_C0 = integrate.quad(photon_flux, v_C0_low, v_C0_high, args=(T_eff,))\n",
    "print(f'Integral for carbon (Q_C0): {Q_C0:.2e}, Error estimate: {error_C0:.2e}')"
   ]
  },
  {
   "cell_type": "code",
   "execution_count": 4,
   "id": "09f54f3c",
   "metadata": {},
   "outputs": [
    {
     "name": "stdout",
     "output_type": "stream",
     "text": [
      "The relative number of photons Q(C^0)/Q(H^0) is 0.79\n"
     ]
    }
   ],
   "source": [
    "# Computing the relative number of photons\n",
    "ratio = Q_C0 / Q_H0\n",
    "print(f'The relative number of photons Q(C^0)/Q(H^0) is {ratio:.2}')"
   ]
  },
  {
   "cell_type": "markdown",
   "id": "41351ecc",
   "metadata": {},
   "source": [
    "b) Estimate the relative radii of the HII and CII Stromgren spheres around this star. Assume that in the H+ ionization zone all the electrons come from H0, and in the C+ ionization zone all the electrons come from C0. "
   ]
  },
  {
   "cell_type": "code",
   "execution_count": 5,
   "id": "a8015bcc",
   "metadata": {},
   "outputs": [],
   "source": [
    "# more constants\n",
    "T_region = 8000                                    # Temperature of the region in Kelvin H2 Region (From Textbook)\n",
    "n_c_n_H_ratio = 2 * 10**(-4)                       # Ratio of carbon to hydrogen atoms\n",
    "recomb_coeff_C = 4.66*10**(-13) * (u.cm**3 / u.s)  # Recombination coefficient for carbon in cm^3/s\n",
    "recomb_coeff_H = 3.1 * 10**(-13) * ( T_region / 8000 )**(-0.82) * (u.cm**3/u.s)   # Recombination coefficient for hydrogen in cm^3/s\n"
   ]
  },
  {
   "cell_type": "code",
   "execution_count": 6,
   "id": "bf735013",
   "metadata": {},
   "outputs": [
    {
     "name": "stdout",
     "output_type": "stream",
     "text": [
      "The Strömgren radius ratio is: R_C/R_H = 235.67\n"
     ]
    }
   ],
   "source": [
    "def stromgren_radius_ratio(Q_H0, recomb_coeff_H, Q_C0, recomb_coeff_C, n_c_n_H_ratio):\n",
    "    \"\"\"Returns the Strömgren radius.\"\"\"\n",
    "    R_H = ( 3 * Q_H0 / (4 * np.pi * recomb_coeff_H) )**(1/3)\n",
    "    R_C = ( 3 * Q_C0 / (4 * np.pi * recomb_coeff_C) )**(1/3)\n",
    "    multiplier = n_c_n_H_ratio**(-2/3)\n",
    "    return R_C / R_H * multiplier\n",
    "\n",
    "stromgren_radius_ratio = stromgren_radius_ratio(Q_H0, recomb_coeff_H, Q_C0, recomb_coeff_C, n_c_n_H_ratio)\n",
    "print(f'The Strömgren radius ratio is: R_C/R_H = {stromgren_radius_ratio:.2f}')"
   ]
  },
  {
   "cell_type": "markdown",
   "id": "3ac98874",
   "metadata": {},
   "source": [
    "c) Assume this B0 star and its ionized C region are in the WNM with n_H = 1 cm^-3 and that the rate of productopm of hydrogen-ionizing photons is Q0 = 3.55*10^48 s^-1. What is the radius of the star's carbon Stromgren sphere assuming all its free electrons come from ionizing C0?"
   ]
  },
  {
   "cell_type": "code",
   "execution_count": 7,
   "id": "33602246",
   "metadata": {},
   "outputs": [
    {
     "name": "stdout",
     "output_type": "stream",
     "text": [
      "The Strömgren radius for carbon is: 10.69 kpc\n"
     ]
    }
   ],
   "source": [
    "n_H = 1 * u.cm**(-3)             # Hydrogen number density in cm^-3\n",
    "Q0 = 3.55 * 10**48 * (1/u.s)     # Ionizing photons per second\n",
    "Q_C_new = Q0 * 0.79            # ratio from part a. \n",
    "n_C = 2*10**(-4) / u.cm**3       # Number density of carbon in cm^-3\n",
    "\n",
    "\n",
    "R_C = ((( 3 * Q_C_new ) / (4 * np.pi * recomb_coeff_C * n_C**2))**(1/3)).to(u.kpc)\n",
    "print(f'The Strömgren radius for carbon is: {R_C:.2f}')"
   ]
  },
  {
   "cell_type": "markdown",
   "id": "9d2563ff",
   "metadata": {},
   "source": [
    "d) The actual ionization state of the WNM is higher than you assumed above. Repeat your calculation in part (c) for x ~ 10^(-2) (i.e. n_e~0.01n_H)"
   ]
  },
  {
   "cell_type": "code",
   "execution_count": 8,
   "id": "35d08bcc",
   "metadata": {},
   "outputs": [
    {
     "name": "stdout",
     "output_type": "stream",
     "text": [
      "The Strömgren radius for carbon is: 3.14 kpc\n"
     ]
    }
   ],
   "source": [
    "x = 1e-2       # Ionization fraction\n",
    "\n",
    "n_e = x * n_H  # Electron number density\n",
    "\n",
    "R_C = ((3 * Q0) / (4 * np.pi * recomb_coeff_C * n_C * n_e))**(1/3)\n",
    "R_C = R_C.to(u.kpc)  # Convert the result to parsecs\n",
    "\n",
    "print(f'The Strömgren radius for carbon is: {R_C:.2f}')"
   ]
  },
  {
   "cell_type": "markdown",
   "id": "b298f214",
   "metadata": {},
   "source": [
    "e) What are the implications of the calculations above for the ionization state of carbon in the WNM? Think about the general size and distance scales for the Milky Way. What is the thickness of the HI disk? If there are N star forming regions distributed throughout the MW, how are they spaced in distance?"
   ]
  },
  {
   "cell_type": "markdown",
   "id": "4820706d",
   "metadata": {},
   "source": [
    "In the WNM, carbon will have a larger Stromgren sphere then hydrogen by a factor of about 232 times larger. This makes sense because carbon is easier to ionize since its outter electron requires less energy to get kicked out, as seen by the limits of integration provided. \n",
    "In the MW, the thickness of the thin disk is 0.2kpc and the thick disk is 2.6kpc. Taking the ration of Stromgren radius from part b and calculating the one of Hydrogen using the value of Carbon from part d is 0.01kpc, meaning the diameter of the Stromgren sphere is 0.02kpc. Therefore, approximately 10 - 130 star forming regions fit in the thickness range of 0.2kpc to 2.6kpc. "
   ]
  },
  {
   "cell_type": "code",
   "execution_count": 9,
   "id": "20afbb3f",
   "metadata": {},
   "outputs": [
    {
     "name": "stdout",
     "output_type": "stream",
     "text": [
      "The Strömgren radius for hydrogen using parts b and d is: 0.01 kpc\n"
     ]
    }
   ],
   "source": [
    "R_H_in_kpc = 3.14 / 235.67\n",
    "print(f'The Strömgren radius for hydrogen using parts b and d is: {R_H_in_kpc:.2f} kpc')"
   ]
  },
  {
   "cell_type": "markdown",
   "id": "81fc0a91",
   "metadata": {},
   "source": [
    "2) The intensity of Hα emission in the diffuse warm ionized medium provides an estimate of the emission measure along the line of sight.\n",
    "\n",
    "    (a) Use the values of Table 4.4 (attached to Canvas assignment) Download Table 4.4 (attached to Canvas assignment)to compute a relation between the emission measure EM (in units of cm−6 pc) and the observed intensity of Hα – that is, I(Hα) in units of Rayleighs (R), where 1R = 106/(4π) photons cm−2 s−1 ster−1."
   ]
  },
  {
   "cell_type": "code",
   "execution_count": 10,
   "id": "4ac3844b",
   "metadata": {},
   "outputs": [
    {
     "name": "stdout",
     "output_type": "stream",
     "text": [
      "The curve fit for the recombination coefficient is: [-0.83333858 -9.25808181]\n"
     ]
    },
    {
     "data": {
      "image/png": "[encoded data removed]",
      "text/plain": [
       "<Figure size 800x600 with 1 Axes>"
      ]
     },
     "metadata": {},
     "output_type": "display_data"
    }
   ],
   "source": [
    "T = np.log10([5000, 10000, 20000]) # Temperatures in Kelvin\n",
    "# below I call the list Alpha_A, but I am actually using the alpha B values from the table, because that is similar to what was shown in class.\n",
    "alpha_A = np.log10([4.54e-13, 2.59e-13, 1.43e-13]) # Recombination coefficients in cm^3/s \n",
    "T_og = np.array([5000, 10000, 20000])\n",
    "\n",
    "# curve fitting between temperature and recombination coefficient\n",
    "def curve_fit(T, alpha_A):\n",
    "    \"\"\"Returns the curve fit for the recombination coefficient.\"\"\"\n",
    "    return np.polyfit(T, alpha_A, 1)\n",
    "\n",
    "# Fit the curve\n",
    "fit = curve_fit(T, alpha_A)\n",
    "print(f\"The curve fit for the recombination coefficient is: {fit}\")\n",
    "\n",
    "# plot \n",
    "plt.figure(figsize=(8, 6))\n",
    "plt.scatter(T, alpha_A, label='Data points')\n",
    "plt.plot(T, np.polyval(fit, T), color='black', label='Curve fit')\n",
    "plt.scatter(np.log10(T_og), np.log10((T_og**fit[0])*10**(fit[1])), color='red', label='Corfimed Fit')\n",
    "\n",
    "plt.xlabel('Temperature (K)')\n",
    "plt.ylabel('Recombination coefficient (cm^3/s)')\n",
    "plt.legend()\n",
    "plt.show()\n"
   ]
  },
  {
   "cell_type": "code",
   "execution_count": 11,
   "id": "c75db7d6",
   "metadata": {},
   "outputs": [
    {
     "name": "stdout",
     "output_type": "stream",
     "text": [
      "The prefactor is: 1.20\n"
     ]
    }
   ],
   "source": [
    "prefactor = ( (10**(4 * 0.83)) * (10**6) * 10 **(9.25) / ((1*u.pc).to(u.cm)) ).value\n",
    "print(f'The prefactor is: {prefactor:.2f}')"
   ]
  },
  {
   "cell_type": "markdown",
   "id": "e1364216",
   "metadata": {},
   "source": [
    "b) A particular line of sight has an I(Hα) = 6R. What is the corresponding EM? If the corresponding length is about 2 kpc, what is the resulting estimate for ne?\n",
    "\n"
   ]
  },
  {
   "cell_type": "code",
   "execution_count": 12,
   "id": "240d9135",
   "metadata": {},
   "outputs": [
    {
     "name": "stdout",
     "output_type": "stream",
     "text": [
      "The EM is: 5.98e+00\n"
     ]
    }
   ],
   "source": [
    "R = 10**6 / (4*np.pi)\n",
    "I = 6 * R   \n",
    "T = 8000 # The temperature of the WNM \n",
    "\n",
    "EM = 1.2 * (T/10**4)**(0.83) * (I / R)\n",
    "print(f'The EM is: {EM:.2e}')  # emission measure "
   ]
  },
  {
   "cell_type": "code",
   "execution_count": 13,
   "id": "4cbee784",
   "metadata": {},
   "outputs": [
    {
     "name": "stdout",
     "output_type": "stream",
     "text": [
      "The electron density is: 0.05 1 / cm3\n"
     ]
    }
   ],
   "source": [
    "EM_new = EM * (u.cm**(-6)*u.pc)\n",
    "L = 2*u.kpc\n",
    "n_e_estimate = np.sqrt( EM_new / L ).to(u.cm**(-3))\n",
    "print(f'The electron density is: {n_e_estimate:.2f}')  # electron density"
   ]
  },
  {
   "cell_type": "markdown",
   "id": "8c43ac5f",
   "metadata": {},
   "source": [
    "(c) The WIM is not uniform. Take a simple model in which only a fraction φ along the line of sight is filled with electrons. Pulsar dispersion measurements indicate a typical value near the Sun of neφ = 0.025 cm−3. Use this value in combination with the results from part (b) to solve for the filling factor φ and the mean electron density. How does this density estimate compare with typical values of the WNM?"
   ]
  },
  {
   "cell_type": "code",
   "execution_count": 14,
   "id": "a3df6c15",
   "metadata": {},
   "outputs": [
    {
     "name": "stdout",
     "output_type": "stream",
     "text": [
      "The ionization fraction is: 0.46\n",
      "Slides 2 page 3 has value of 0.4 for WNM, which is very close to the value I calculated.\n"
     ]
    }
   ],
   "source": [
    "phi = 0.025 / n_e_estimate\n",
    "print(f'The ionization fraction is: {phi.value:.2f}')  # ionization fraction\n",
    "print('Slides 2 page 3 has value of 0.4 for WNM, which is very close to the value I calculated.')  # comparison with the textbook value"
   ]
  },
  {
   "cell_type": "markdown",
   "id": "3263cea7",
   "metadata": {},
   "source": [
    "3) This question will explore (highly idealized) which stars emit ionizing photons from a stellar population and how long this emission will last after the population forms.\n",
    "\n",
    "a) Write a function that integrates a stellar spectrum with a pure Planck function emission (wild approximation) of temperature \n",
    " and radius \n",
    " to determine the number of hydrogen ionizing photons emitted by the star per second."
   ]
  },
  {
   "cell_type": "code",
   "execution_count": 15,
   "id": "c9f72515",
   "metadata": {},
   "outputs": [],
   "source": [
    "# Constants\n",
    "h = const.h.cgs.value                  # Planck's constant in erg·s\n",
    "c = const.c.cgs.value                  # Speed of light in cm/s\n",
    "k_B = const.k_B.cgs.value              # Boltzmann constant in erg/K\n",
    "E_H0 = 13.6 * u.eV.to('erg')           # Ionization energy of hydrogen in erg\n",
    "\n",
    "# Planck function for the blackbody spectrum\n",
    "def planck_flux(v, T):\n",
    "    return (2 * h * v**3 / c**2) / (np.exp(h * v / (k_B * T)) - 1)\n",
    "\n",
    "# Photon flux (number of photons per second per frequency)\n",
    "def photon_flux(v, T):\n",
    "    with np.errstate(over='ignore'):\n",
    "       return planck_flux(v, T) / (h * v)\n",
    "\n",
    "# Function to calculate the number of ionizing photons per second\n",
    "def hydrogen_ionizing_photons(T, R_star):\n",
    "    v_H0 = E_H0 / h  # frequency of ionization energy of H\n",
    "    try:\n",
    "        Q_H0, error_H0 = integrate.quad(lambda v: photon_flux(v, T) * 4 * np.pi * R_star**2, v_H0, 8*v_H0) #if you integrate to inf, function diverges and get RuntimeWarning\n",
    "                                                                                                           # Need to use try and except \n",
    "    except RuntimeWarning as e:\n",
    "        print(f\"Integration stopped due to: {e}\")\n",
    "        return None\n",
    "    return Q_H0\n"
   ]
  },
  {
   "cell_type": "markdown",
   "id": "93cb934e",
   "metadata": {},
   "source": [
    "b) Use this function and the main sequence mass-luminosity and mass-radius relations given in class to calculate the number of ionizing photons emitted per second (also per unit mass) from a simple stellar population of main sequence stars immediately after forming with a Salpeter IMG."
   ]
  },
  {
   "cell_type": "markdown",
   "id": "07f57131",
   "metadata": {},
   "source": [
    "radius source : [https://jila.colorado.edu/~ajsh/courses/astr1120_03/text/chapter5/l5S1.htm#:~:text=With%20this%20equation%20and%20the,mass%3A%20R%20%3D%20M0.8.]"
   ]
  },
  {
   "cell_type": "code",
   "execution_count": 16,
   "id": "c9f050a3",
   "metadata": {},
   "outputs": [
    {
     "name": "stdout",
     "output_type": "stream",
     "text": [
      "Total number of hydrogen-ionizing photons per second: 5.51e+47 photons/s\n"
     ]
    }
   ],
   "source": [
    "# Salpeter IMF relation phi_m = A * m**(-2.35) where phi_m is the initial mass distribution of stars at their time of birth.\n",
    "\n",
    "# IMF function (Salpeter IMF)\n",
    "def salpeter_imf(mass):\n",
    "    return mass**(-2.35) # there is a constant in front that is disregarded\n",
    "\n",
    "# Function to calculate the total ionizing photons from the population\n",
    "def total_ionizing_photons(T_func, R_func, mass_min=0.1, mass_max=100):  # mass_min = 0.1, mass_max = 100\n",
    "    \"\"\"\n",
    "    Integrate the number of hydrogen-ionizing photons over the stellar population.\n",
    "    \n",
    "    Parameters:\n",
    "    T_func : function to calculate temperature for a given mass\n",
    "    R_func : function to calculate radius for a given mass\n",
    "    mass_min : minimum mass of the stellar population\n",
    "    mass_max : maximum mass of the stellar population\n",
    "    \n",
    "    Returns:\n",
    "    Total number of ionizing photons per second\n",
    "    \"\"\"\n",
    "    # Photon emission rate integrand\n",
    "    def integrand(mass):\n",
    "        R_star = R_func(mass)\n",
    "        T_star = T_func(mass)\n",
    "        \n",
    "        # Calculate the number of ionizing photons for this mass star\n",
    "        Q_H0 = hydrogen_ionizing_photons(T_star, R_star)\n",
    "        \n",
    "        # Multiply by the IMF to weight by the number of stars of this mass\n",
    "        return Q_H0 * salpeter_imf(mass) #units of photons/s\n",
    "    \n",
    "    # Integrate over the entire mass range\n",
    "    total_photons, error = integrate.quad(integrand, mass_min, mass_max)\n",
    "    \n",
    "    return total_photons\n",
    "\n",
    "# Example: Assuming blackbody emission and using simplified relations for radius and temperature\n",
    "def temperature(mass):\n",
    "    \"\"\"Returns the temperature of a star (in K) as a function of mass (M/M_sun).\"\"\"\n",
    "    if mass < 0.43:\n",
    "        return 5772 * (0.23)**0.25 * (mass)**(0.225)\n",
    "    elif 0.43 <= mass < 2:\n",
    "        return  5772 * (mass)**(0.65)\n",
    "    elif 2 <= mass < 55:\n",
    "        return 5772 * (1.4)**0.25 * (mass)**(0.525)\n",
    "    else:\n",
    "        return 5772 * (32000)**0.25 * (mass)**(-.01)\n",
    "\n",
    "    # return 5772 * (mass)  # temperature of sun. Luminosity is proportional to mass^4 which is proportional to T^4\n",
    "\n",
    "def radius(mass):\n",
    "    \"\"\"Returns the radius of a star (in cm) as a function of mass (M/M_sun).\"\"\"\n",
    "    return 6.957e10 * (mass)**0.7  # Scaling relation, multiplied by radius of sun in cm because I'm dealing with ergs\n",
    "\n",
    "\n",
    "########## BELOW IS AN EXAMPLE OF HOW TO USE THE FUNCTION total_ionizing_photons ########## \n",
    "\n",
    "# Calculate the total number of hydrogen-ionizing photons\n",
    "total_photons = total_ionizing_photons(temperature, radius)\n",
    "print(f\"Total number of hydrogen-ionizing photons per second: {total_photons:.2e} photons/s\")\n"
   ]
  },
  {
   "cell_type": "markdown",
   "id": "40f08b87",
   "metadata": {},
   "source": [
    "c) Calculate the mass threshold, M_ionize , such that stars of mass M > M_ionize are responsible for 90% of the ionizing photons from the zero-age simple stellar population. Use this to estimate the timescale over which a newly formed star cluster will emit a significant number of ionizing photons."
   ]
  },
  {
   "cell_type": "markdown",
   "id": "7230a2e7",
   "metadata": {},
   "source": [
    "The lifetime to mass ratio is from: [https://astronomy.swin.edu.au/cosmos/m/main+sequence+lifetime#:~:text=Since%20stars%20spend%20roughly%2090%%20of%20their,lifetime]"
   ]
  },
  {
   "cell_type": "code",
   "execution_count": 17,
   "id": "2c45b909",
   "metadata": {},
   "outputs": [
    {
     "name": "stdout",
     "output_type": "stream",
     "text": [
      "In this code, my goal was to try to generate a population of stars based on the Salpeter IMF.\n",
      "Before, I was using a uniform distribution of stars, but the value that I was getting for the mass threshold for 0.9 was too large.\n",
      "The previous uniform distribution was 0.1 to 100 with a step of 0.1. This one has more stars in the lower mass range, which is more realistic.\n"
     ]
    }
   ],
   "source": [
    "# Use IMF to calculate the number of stars in a given mass range\n",
    "# Define the mass range\n",
    "mass_range = np.geomspace(0.1, 100, 500)\n",
    "\n",
    "# Use IMF to calculate the number of stars in a given mass range\n",
    "def number_of_stars_in_mass_range(mass_range, imf_func):\n",
    "    \"\"\"Calculate the number of stars in a given mass range using the IMF.\"\"\"\n",
    "    return np.array([imf_func(mass) for mass in mass_range])\n",
    "\n",
    "# Calculate the number of stars\n",
    "num_stars = number_of_stars_in_mass_range(mass_range, salpeter_imf)\n",
    "\n",
    "# normalize number of stars and only use the higher integer values\n",
    "num_stars_normalized = num_stars / np.mean(num_stars)\n",
    "num_stars_normalized_new = ( np.ceil(num_stars_normalized) ).astype(int)\n",
    "num_stars_normalized_new , mass_range\n",
    "\n",
    "\n",
    "print('In this code, my goal was to try to generate a population of stars based on the Salpeter IMF.')\n",
    "print('Before, I was using a uniform distribution of stars, but the value that I was getting for the mass threshold for 0.9 was too large.')\n",
    "print('The previous uniform distribution was 0.1 to 100 with a step of 0.1. This one has more stars in the lower mass range, which is more realistic.')"
   ]
  },
  {
   "cell_type": "code",
   "execution_count": 18,
   "id": "19228595",
   "metadata": {},
   "outputs": [
    {
     "name": "stdout",
     "output_type": "stream",
     "text": [
      "The mass threshold M_ionize is: 12.36 M_sun\n",
      "The timescale over which the star cluster will emit significant ionizing photons is: 18.60 Myr\n"
     ]
    }
   ],
   "source": [
    "# # Function to calculate the cumulative ionizing photons\n",
    "def cumulative_ionizing_photons(mass, T_func, R_func):\n",
    "    R_star = R_func(mass)\n",
    "    T_star = T_func(mass)\n",
    "    Q_H0 = hydrogen_ionizing_photons(T_star, R_star)\n",
    "    return Q_H0 * salpeter_imf(mass)\n",
    "\n",
    "# Total number of ionizing photons\n",
    "total_photons = 5.51e47\n",
    "\n",
    "\n",
    "def find_mass_threshold_with_star_counts(T_func, R_func, total_photons, mass_range, num_stars_normalized_new, threshold=0.9):\n",
    "    cumulative_photons = 0\n",
    "    mass_index = 0  # Start from the minimum mass bin\n",
    "    \n",
    "    # Iterate over the mass range and accumulate ionizing photons\n",
    "    for mass, num_stars in zip(mass_range, num_stars_normalized_new):\n",
    "        # Calculate the photons for a single star of this mass\n",
    "        R_star = R_func(mass)\n",
    "        T_star = T_func(mass)\n",
    "        Q_H0 = hydrogen_ionizing_photons(T_star, R_star)\n",
    "        \n",
    "        # Multiply by the number of stars in this mass bin\n",
    "        cumulative_photons += Q_H0 * num_stars\n",
    "        \n",
    "        # Check if we've reached the threshold\n",
    "        if cumulative_photons / total_photons >= threshold:\n",
    "            return mass  # Return the mass corresponding to 90% of the ionizing photons\n",
    "\n",
    "M_ionize = find_mass_threshold_with_star_counts(temperature, radius, total_photons, mass_range, num_stars_normalized_new)\n",
    "print(f\"The mass threshold M_ionize is: {M_ionize:.2f} M_sun\")\n",
    "\n",
    "# Assuming the lifetime of stars is inversely proportional to their mass\n",
    "def star_lifetime(mass):\n",
    "    return (10**10) * (mass)**(-2.5) # in years THIS IS USING THE RATIO FROM THE SOURCE SPECIFIED ABOVE\n",
    "\n",
    "timescale = star_lifetime(M_ionize)\n",
    "print(f\"The timescale over which the star cluster will emit significant ionizing photons is: {timescale/(10**6):.2f} Myr\")\n",
    "#according to googles \"few million years response, I think this value should be correct.\"\n",
    "\n"
   ]
  },
  {
   "cell_type": "code",
   "execution_count": null,
   "id": "3371ece6",
   "metadata": {},
   "outputs": [],
   "source": []
  },
  {
   "cell_type": "code",
   "execution_count": null,
   "id": "cfe27438",
   "metadata": {},
   "outputs": [],
   "source": []
  }
 ],
 "metadata": {
  "kernelspec": {
   "display_name": "base",
   "language": "python",
   "name": "python3"
  },
  "language_info": {
   "codemirror_mode": {
    "name": "ipython",
    "version": 3
   },
   "file_extension": ".py",
   "mimetype": "text/x-python",
   "name": "python",
   "nbconvert_exporter": "python",
   "pygments_lexer": "ipython3",
   "version": "3.12.4"
  }
 },
 "nbformat": 4,
 "nbformat_minor": 5
}
