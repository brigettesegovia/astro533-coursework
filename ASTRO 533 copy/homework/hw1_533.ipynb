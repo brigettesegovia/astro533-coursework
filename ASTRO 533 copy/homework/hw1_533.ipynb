{
 "cells": [
  {
   "cell_type": "markdown",
   "id": "0847d244-2b9f-43d1-bd5f-545ac81a980b",
   "metadata": {},
   "source": [
    "## First Question "
   ]
  },
  {
   "cell_type": "code",
   "execution_count": 2,
   "id": "1d98048d-0702-4af9-b3ed-7de6898c9815",
   "metadata": {},
   "outputs": [
    {
     "name": "stdout",
     "output_type": "stream",
     "text": [
      "The gravitational binding energy for the BULGE:  1.03e+58 ergs\n",
      "The gravitational binding energy for the DISK:  1.16e+58 ergs\n",
      "The gravitational binding energy for the HALO:  2.33e+55 ergs\n",
      "The gravitational binding energy for the SMBH:  6.84e+59 ergs\n"
     ]
    }
   ],
   "source": [
    "import numpy as np\n",
    "\n",
    "#First we define the constants. \n",
    "#We want units of cgs - centimeter grams seconds so we define things in these units\n",
    "G = 6.674 * 10**(-8)  #gravitational constant in cm^3 g^-1 s^-2\n",
    "M_solar = 1.989 * 10**33  #Solar mass in grams\n",
    "kpc_to_cm = 3.086 * 10**21  #conversion for kiloparsec to cm (for the kpc radius below)\n",
    "\n",
    "#Masses of four objects required\n",
    "M_bulge = 2 * 10**10 * M_solar #These masses were found online (easy to change if needed)\n",
    "M_disk = 6 * 10**10 * M_solar \n",
    "M_halo = 1 * 10**10 * M_solar\n",
    "M_SMBH = 4 * 10**6 * M_solar\n",
    "\n",
    "#Converting the radii measurements to centimeters \n",
    "R_bulge = 2 * kpc_to_cm #these radius measurement was found online\n",
    "R_disk = 16 * kpc_to_cm\n",
    "R_halo = 220 * kpc_to_cm\n",
    "R_SMBH = (1.2*10**(-6)) * (3.086*10**18)  #converting the pc to cm therefore using *3.086*10**18  \n",
    "\n",
    "# Gravitational Binding Energy calculation\n",
    "def binding_energy(M, R):\n",
    "    return (3/5) * (G * M**2) / R\n",
    "\n",
    "U_bulge = binding_energy(M_bulge, R_bulge)\n",
    "U_disk = binding_energy(M_disk, R_disk)\n",
    "U_halo = binding_energy(M_halo, R_halo)\n",
    "U_SMBH = binding_energy(M_SMBH, R_SMBH)\n",
    "\n",
    "print('The gravitational binding energy for the BULGE: ', '{:.2e}'.format(U_bulge), 'ergs') \n",
    "print('The gravitational binding energy for the DISK: ',  '{:.2e}'.format(U_disk), 'ergs') \n",
    "print('The gravitational binding energy for the HALO: ',  '{:.2e}'.format(U_halo), 'ergs') \n",
    "print('The gravitational binding energy for the SMBH: ',  '{:.2e}'.format(U_SMBH), 'ergs') \n"
   ]
  },
  {
   "cell_type": "code",
   "execution_count": 3,
   "id": "48975f08-4af6-4645-8510-ec1fcfb6f7fb",
   "metadata": {},
   "outputs": [
    {
     "name": "stdout",
     "output_type": "stream",
     "text": [
      "The binding energy of the SMBH is:  6.67e+01 times that of the BULGE\n"
     ]
    }
   ],
   "source": [
    "#Comparing the binding energy of the SMBH to the Bulge \n",
    "\n",
    "print('The binding energy of the SMBH is: ', '{:.2e}'.format(U_SMBH/U_bulge), 'times that of the BULGE')"
   ]
  },
  {
   "cell_type": "code",
   "execution_count": 4,
   "id": "6d72b96c-4584-4a34-9831-b0d055f773e4",
   "metadata": {},
   "outputs": [
    {
     "name": "stdout",
     "output_type": "stream",
     "text": [
      "The total energy due to supernova is:  1.37e+59\n"
     ]
    }
   ],
   "source": [
    "E_supernova = (10**51)*(1/100)*(13.7*10**9)\n",
    "print('The total energy due to supernova is: ', '{:.2e}'.format(E_supernova))"
   ]
  },
  {
   "cell_type": "code",
   "execution_count": 5,
   "id": "05b303d8-b2fe-4c4a-9619-79df4eead110",
   "metadata": {},
   "outputs": [
    {
     "name": "stdout",
     "output_type": "stream",
     "text": [
      "The total energy of the SUPERNOVA is:  1.33e+01 times that of the binding energy of the BULGE\n",
      "The total energy of the SUPERNOVA is:  1.19e+01 times that of the binding energy of the DISK\n",
      "The total energy of the SUPERNOVA is:  5.87e+03 times that of the binding energy of the HALO\n",
      "The total energy of the SUPERNOVA is:  2.00e-01 times that of the binding energy of the SMBH\n"
     ]
    }
   ],
   "source": [
    "#Comparing total energy to the binding energies found above \n",
    "\n",
    "print('The total energy of the SUPERNOVA is: ', '{:.2e}'.format(E_supernova/U_bulge), 'times that of the binding energy of the BULGE')\n",
    "print('The total energy of the SUPERNOVA is: ', '{:.2e}'.format(E_supernova/U_disk), 'times that of the binding energy of the DISK')\n",
    "print('The total energy of the SUPERNOVA is: ', '{:.2e}'.format(E_supernova/U_halo), 'times that of the binding energy of the HALO')\n",
    "print('The total energy of the SUPERNOVA is: ', '{:.2e}'.format(E_supernova/U_SMBH), 'times that of the binding energy of the SMBH')\n"
   ]
  },
  {
   "cell_type": "markdown",
   "id": "1e7fe443-1f2a-4701-834d-29c0a08bca9f",
   "metadata": {},
   "source": [
    "## Second Question"
   ]
  },
  {
   "cell_type": "code",
   "execution_count": 7,
   "id": "7d4b4c6e-7dba-4b48-a9dc-ec3e8e33492c",
   "metadata": {},
   "outputs": [],
   "source": [
    "# I define a 2D array with the odd columns being the particles per million, the even columns being the molecular mass, and the \n",
    "# rows corresponding to the different elements \n",
    "elements = np.array([[9.1063e+05, 1.0000e+00],\n",
    "       [8.8250e+04, 4.0000e+00],\n",
    "       [5.5000e+02, 1.6000e+01],\n",
    "       [2.5000e+02, 1.2000e+01],\n",
    "       [1.2000e+02, 2.0180e+01],\n",
    "       [7.5000e+01, 1.4000e+01],\n",
    "       [3.6000e+01, 2.4300e+01],\n",
    "       [3.5000e+01, 2.8100e+01],\n",
    "       [3.0000e+01, 5.5850e+01],\n",
    "       [1.5000e+01, 3.2060e+01]])\n"
   ]
  },
  {
   "cell_type": "code",
   "execution_count": 8,
   "id": "0a116406-479f-4d43-a276-01ff68ec7207",
   "metadata": {},
   "outputs": [
    {
     "name": "stdout",
     "output_type": "stream",
     "text": [
      "The mean molecular weight for the neutral ISM is:  1.28 amu\n"
     ]
    }
   ],
   "source": [
    "### CASE ONE ISM\n",
    "numerator_total = 0\n",
    "for elem in elements:\n",
    "    numerator_total += elem[0]*elem[1]\n",
    "\n",
    "denominator_total = 0\n",
    "for elem in elements:\n",
    "    denominator_total += elem[0]\n",
    "\n",
    "mu = numerator_total/denominator_total\n",
    "mu\n",
    "print('The mean molecular weight for the neutral ISM is: ', '{:.2f}'.format(mu),'amu')"
   ]
  },
  {
   "cell_type": "code",
   "execution_count": 9,
   "id": "ce211b86-20b6-46ef-a96a-7d0d8f4b9c5f",
   "metadata": {},
   "outputs": [],
   "source": [
    "# ### OLD: CASE ONE ISM\n",
    "# #First we have to define some values for the ISM \n",
    "# #for ISM we can ignore the metals\n",
    "# X_H = 0.90  #Estimated abundance of hydrogen\n",
    "# X_He = 0.10  #Estimated abundance of helium \n",
    "# m_H = 1  #hydrogen atomic mass in amu\n",
    "# m_He = 4  #helium atomic mass in amu\n",
    "\n",
    "# # Calculate mean molecular mass\n",
    "# mu = (X_H * m_H + X_He * m_He) / (X_H + X_He)\n",
    "# print('The mean molecular weight for the neutral ISM is: ', mu,'amu')\n"
   ]
  },
  {
   "cell_type": "code",
   "execution_count": 36,
   "id": "d8c5ab9f-8206-43ac-86b5-e4b096b5e159",
   "metadata": {},
   "outputs": [
    {
     "name": "stdout",
     "output_type": "stream",
     "text": [
      "The mean molecular weight for the neutral ISM is:  0.61 amu\n"
     ]
    }
   ],
   "source": [
    "### CASE TWO FULLY IONIZED MEDIUM\n",
    "numerator_total = 0\n",
    "for elem in elements:\n",
    "    numerator_total += elem[0]*elem[1]\n",
    "\n",
    "additional_free_electrons = np.array([1, 2, 8, 6, 10, 7, 12, 14, 26, 16])\n",
    "#these are the extra free electrons for each element \n",
    "\n",
    "denominator_total = 0\n",
    "for elem in elements:\n",
    "    denominator_total += elem[0] #this is the previously calculated total number of particles\n",
    "\n",
    "mu_ionized = numerator_total/(denominator_total + np.sum(elements[:,0]*np.array(additional_free_electrons)))\n",
    "#notice that there is an additional factor that takes into account the ppm for each element and multiplies it by the free\n",
    "#electron for the element\n",
    "\n",
    "print('The mean molecular weight for the neutral ISM is: ', '{:.2f}'.format(mu_ionized),'amu')"
   ]
  },
  {
   "cell_type": "code",
   "execution_count": 11,
   "id": "1717937e-3e09-4d0e-ae00-6ad06e8321df",
   "metadata": {},
   "outputs": [],
   "source": [
    "# ### CASE TWO FULLY IONIZED MEDIUM\n",
    "# #hydrogen atom ionizes into one proton with one electron, total number of particles is 2\n",
    "# #helium atom ionizes into two protons with two electrons, total number of particles is 6 counting the two neutrons\n",
    "\n",
    "# #total number of particles for each\n",
    "# N_H = 2  #1 proton + 1 electron for Hydrogen\n",
    "# N_He = 6  #2 protons + 2 neutrons + 2 electrons for Helium\n",
    "\n",
    "# #mean molecular mass for fully ionized ISM\n",
    "# mu_ionized = (X_H * m_H + X_He * m_He) / (X_H * N_H + X_He * N_He)\n",
    "# mu_ionized\n",
    "# print('The mean molecular weight for the fully ionized ISM is: ', '{:.2f}'.format(mu_ionized),'amu')\n"
   ]
  },
  {
   "cell_type": "markdown",
   "id": "35e7fffa-2561-4ef4-aff9-b503e22df4d6",
   "metadata": {},
   "source": [
    "In order to calculate the additional particles I used the equation: \n",
    "$$n_{tot}=\\sum^{noble}_i n_i + \\frac{1}{2}\\sum^{not~ noble}_i n_i$$ where $n_i$ is the ppm/million because for each atom in a molecule you have half that number in molecules."
   ]
  },
  {
   "cell_type": "code",
   "execution_count": 13,
   "id": "e60aa94b-36fe-4fe5-bdcb-fd6f72a45f4e",
   "metadata": {},
   "outputs": [],
   "source": [
    "not_noble_sum_temp = 0 \n",
    "for elem in elements:\n",
    "    if elem[0] not in [8.8250e+04, 1.2000e+02]:\n",
    "        not_noble_sum_temp += elem[0]\n",
    "\n",
    "not_noble_sum = (1/2)*not_noble_sum_temp\n",
    "total_num = not_noble_sum + 8.8250e+04 + 1.2000e+02 #adding helium and neon"
   ]
  },
  {
   "cell_type": "code",
   "execution_count": 14,
   "id": "cccebcff-b59a-40f7-a677-bc206d35a60c",
   "metadata": {},
   "outputs": [
    {
     "data": {
      "text/plain": [
       "544180.5"
      ]
     },
     "execution_count": 14,
     "metadata": {},
     "output_type": "execute_result"
    }
   ],
   "source": [
    "total_num = not_noble_sum + 8.8250e+04 + 1.2000e+02 #adding helium and neon\n",
    "total_num"
   ]
  },
  {
   "cell_type": "code",
   "execution_count": 15,
   "id": "0a4e31a3-b276-48f0-9125-1a81ddf3311b",
   "metadata": {},
   "outputs": [
    {
     "name": "stdout",
     "output_type": "stream",
     "text": [
      "The mean molecular weight for the neutral ISM is:  2.36 amu\n"
     ]
    }
   ],
   "source": [
    "### CASE THREE MOLECULAR CLOUDS \n",
    "\n",
    "numerator_total = 0\n",
    "for elem in elements:\n",
    "    numerator_total += elem[0]*elem[1]\n",
    "\n",
    "mu_molecular_cloud = numerator_total/(total_num)\n",
    "\n",
    "print('The mean molecular weight for the neutral ISM is: ', '{:.2f}'.format(mu_molecular_cloud),'amu')\n"
   ]
  },
  {
   "cell_type": "code",
   "execution_count": 16,
   "id": "a78baae5-efb1-44bd-b3d8-6b1fedcc0a49",
   "metadata": {},
   "outputs": [],
   "source": [
    "# ### OLD CASE THREE MOLECULAR CLOUDS\n",
    "# #molecular cloud values\n",
    "# X_H2 = 0.75  #fractional abundance of molecular hydrogen\n",
    "# X_He = 0.25  #fractional abundance of Helium\n",
    "# m_H2 = 2  #atomic mass of molecular hydrogen (H2) in amu\n",
    "# m_He = 4  #atomic mass of Helium in amu\n",
    "\n",
    "# #mean molecular mass for the molecular clouds\n",
    "# mu_molecular_cloud = (X_H2 * m_H2 + X_He * m_He) / (X_H2 + X_He)\n",
    "# print('The mean molecular weight for the molecular clouds is: ', '{:.2f}'.format(mu_molecular_cloud), 'amu')\n"
   ]
  },
  {
   "cell_type": "code",
   "execution_count": 17,
   "id": "2b05aff6-4441-460e-b4da-fa2383684f78",
   "metadata": {},
   "outputs": [
    {
     "name": "stdout",
     "output_type": "stream",
     "text": [
      "The mean molecular weight for the primordial gas is:  1.23 amu\n"
     ]
    }
   ],
   "source": [
    "### CASE FOUR PRIMORDIAL GAS\n",
    "#values for the primordial gas\n",
    "X_H_mass = 0.75  #mass fraction of Hydrogen\n",
    "X_He_mass = 0.25  #mass fraction of Helium\n",
    "\n",
    "#finding the atomic masses\n",
    "m_H = 1  #atomic mass of Hydrogen in amu\n",
    "m_He = 4  #atomic mass of Helium in amu\n",
    "\n",
    "#number fractions for both hydrogen and helium\n",
    "n_H = X_H_mass / m_H\n",
    "n_He = X_He_mass / m_He\n",
    "\n",
    "#total from both fractions (also the denominator)\n",
    "n_total = n_H + n_He\n",
    "\n",
    "#mean molecular mass for the primordial gas\n",
    "mu_primordial = (n_H * m_H + n_He * m_He) / n_total\n",
    "print('The mean molecular weight for the primordial gas is: ', '{:.2f}'.format(mu_primordial), 'amu')\n"
   ]
  },
  {
   "cell_type": "code",
   "execution_count": null,
   "id": "100b200b-d510-461c-911e-30420ed103d1",
   "metadata": {},
   "outputs": [],
   "source": []
  },
  {
   "cell_type": "code",
   "execution_count": null,
   "id": "4d1be23c-f8de-48c1-9cc1-611fec6cd235",
   "metadata": {},
   "outputs": [],
   "source": []
  }
 ],
 "metadata": {
  "kernelspec": {
   "display_name": "Python 3 (ipykernel)",
   "language": "python",
   "name": "python3"
  },
  "language_info": {
   "codemirror_mode": {
    "name": "ipython",
    "version": 3
   },
   "file_extension": ".py",
   "mimetype": "text/x-python",
   "name": "python",
   "nbconvert_exporter": "python",
   "pygments_lexer": "ipython3",
   "version": "3.12.4"
  }
 },
 "nbformat": 4,
 "nbformat_minor": 5
}
